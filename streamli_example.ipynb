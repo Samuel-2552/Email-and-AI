{
 "cells": [
  {
   "cell_type": "code",
   "execution_count": 1,
   "metadata": {},
   "outputs": [
    {
     "name": "stderr",
     "output_type": "stream",
     "text": [
      "2023-09-28 19:16:15.945 \n",
      "  \u001b[33m\u001b[1mWarning:\u001b[0m to view this Streamlit app on a browser, run it with the following\n",
      "  command:\n",
      "\n",
      "    streamlit run C:\\Users\\sjose\\AppData\\Local\\Packages\\PythonSoftwareFoundation.Python.3.9_qbz5n2kfra8p0\\LocalCache\\local-packages\\Python39\\site-packages\\ipykernel_launcher.py [ARGUMENTS]\n"
     ]
    }
   ],
   "source": [
    "\n",
    "# Import your dependencies\n",
    "from nylas import APIClient\n",
    "import streamlit as st\n",
    "from wordcloud import WordCloud\n",
    "import os\n",
    "import pandas as pd\n",
    "import altair as alt\n",
    "import matplotlib.pyplot as plt\n",
    "\n",
    "\n",
    "nylas = APIClient(\n",
    "    CLIENT_ID,\n",
    "    CLIENT_SECRET,\n",
    "    ACCESS_TOKEN\n",
    ")  \n",
    "# Auxiliar variables\n",
    "from_messages = []\n",
    "to_messages = []\n",
    "text = \"\"\n",
    "\n",
    "st.title('Email Dashboard')\n",
    "num = st.slider('How many emails?', 1, 200, 50)\n",
    "\n"
   ]
  },
  {
   "cell_type": "code",
   "execution_count": null,
   "metadata": {},
   "outputs": [],
   "source": [
    "# Get emails from your inbox folder\n",
    "f_messages = nylas.messages.where(in_='inbox', limit = num)\n",
    "# Get emails from your sent folder\n",
    "t_messages = nylas.messages.where(in_='sent', limit = num)\n",
    "\n",
    "# Loop through your inbox emails\n",
    "for msg in f_messages:\n",
    "\t# Get the name of the person emailing you\n",
    "\tif(msg[\"from_\"][0][\"name\"] != \"\"):\n",
    "\t\tfrom_messages.append(msg[\"from_\"][0][\"name\"].split()[0])\n",
    "\t# Concatate the subjects of all emails\n",
    "\ttext = text + \" \" + msg[\"subject\"]\n",
    "# Turn the array into a data frame\t\n",
    "f_df = pd.DataFrame(from_messages, columns=['Names'])\n",
    "# Aggregate values, get the top 3 and a name to the new column\n",
    "top_3_from = f_df[\"Names\"].value_counts().head(3).reset_index(name=\"count\")\n",
    "top_3_from.columns = ['person', 'count']"
   ]
  },
  {
   "cell_type": "code",
   "execution_count": null,
   "metadata": {},
   "outputs": [],
   "source": [
    "# Loop through your sent emails\n",
    "for msg in t_messages:\n",
    "\t# Get the name of the person you're emailing\t\n",
    "\tif(msg[\"to\"][0][\"name\"] != \"\"):\t\n",
    "\t\tto_messages.append(msg[\"to\"][0][\"name\"].split()[0])\n",
    "# Turn the array into a data frame\t\t\n",
    "t_df = pd.DataFrame(to_messages, columns=['Names'])\n",
    "# Aggregate values, get the top 3 and a name to the new column\n",
    "top_3_to = t_df[\"Names\"].value_counts().head(3).reset_index(name=\"count\")\n",
    "top_3_to.columns = ['person', 'count']\n",
    "\n",
    "# Using all the email subjects, generate a wordcloud\n",
    "wordcloud = WordCloud(width=800, height=300).generate(text)\n",
    "\n",
    "# Create columns layout\n",
    "col1, col2 = st.columns(2)\n",
    "with col1:\n",
    "\t# Create barchart from emails\n",
    "    bar_chart = alt.Chart(top_3_from).mark_bar().encode(\n",
    "    alt.X('person', title='person'),\n",
    "    alt.Y('count', title='count'),\n",
    "    color='person:N'\n",
    "    ).properties(\n",
    "        title='From: Emails'\n",
    "    )\n",
    "    # Display the barchart\n",
    "    st.altair_chart(bar_chart, use_container_width=True)\n",
    "with col2:\n",
    "    # Create barchart to emails\n",
    "    bar_chart = alt.Chart(top_3_to).mark_bar().encode(\n",
    "    alt.X('person', title='person'),\n",
    "    alt.Y('count', title='count'),\n",
    "    color='person:N'\n",
    "    ).properties(\n",
    "        title='To: Emails'\n",
    "    )\n",
    "    # Display the barchart\n",
    "    st.altair_chart(bar_chart, use_container_width=True)\n",
    "\n",
    "# Display the generated image:\n",
    "fig, ax = plt.subplots(figsize = (12, 8))\n",
    "ax.imshow(wordcloud)\n",
    "plt.axis(\"off\")\n",
    "st.pyplot(fig)"
   ]
  }
 ],
 "metadata": {
  "kernelspec": {
   "display_name": "Python 3",
   "language": "python",
   "name": "python3"
  },
  "language_info": {
   "codemirror_mode": {
    "name": "ipython",
    "version": 3
   },
   "file_extension": ".py",
   "mimetype": "text/x-python",
   "name": "python",
   "nbconvert_exporter": "python",
   "pygments_lexer": "ipython3",
   "version": "3.9.13"
  },
  "orig_nbformat": 4
 },
 "nbformat": 4,
 "nbformat_minor": 2
}
