{
 "cells": [
  {
   "cell_type": "code",
   "execution_count": 1,
   "id": "8c32aa3b",
   "metadata": {},
   "outputs": [],
   "source": [
    "import pandas as pd"
   ]
  },
  {
   "cell_type": "code",
   "execution_count": 2,
   "id": "748b67c9",
   "metadata": {},
   "outputs": [],
   "source": [
    "df=pd.read_json('data (2).json')"
   ]
  },
  {
   "cell_type": "code",
   "execution_count": 3,
   "id": "ca3ef8b4",
   "metadata": {},
   "outputs": [
    {
     "data": {
      "text/html": [
       "<div>\n",
       "<style scoped>\n",
       "    .dataframe tbody tr th:only-of-type {\n",
       "        vertical-align: middle;\n",
       "    }\n",
       "\n",
       "    .dataframe tbody tr th {\n",
       "        vertical-align: top;\n",
       "    }\n",
       "\n",
       "    .dataframe thead th {\n",
       "        text-align: right;\n",
       "    }\n",
       "</style>\n",
       "<table border=\"1\" class=\"dataframe\">\n",
       "  <thead>\n",
       "    <tr style=\"text-align: right;\">\n",
       "      <th></th>\n",
       "      <th>bcc</th>\n",
       "      <th>cc</th>\n",
       "      <th>received_at</th>\n",
       "      <th>events</th>\n",
       "      <th>files</th>\n",
       "      <th>from</th>\n",
       "      <th>to</th>\n",
       "      <th>reply_to</th>\n",
       "      <th>object</th>\n",
       "      <th>unread</th>\n",
       "      <th>starred</th>\n",
       "      <th>_labels</th>\n",
       "      <th>snippet</th>\n",
       "      <th>subject</th>\n",
       "      <th>body</th>\n",
       "    </tr>\n",
       "  </thead>\n",
       "  <tbody>\n",
       "    <tr>\n",
       "      <th>0</th>\n",
       "      <td>[]</td>\n",
       "      <td>[]</td>\n",
       "      <td>2023-09-28 13:52:11</td>\n",
       "      <td>[]</td>\n",
       "      <td>[]</td>\n",
       "      <td>[{'email': 'no-reply@accounts.google.com', 'na...</td>\n",
       "      <td>[{'email': 'sjoseph2552@gmail.com', 'name': ''}]</td>\n",
       "      <td>[]</td>\n",
       "      <td>message</td>\n",
       "      <td>True</td>\n",
       "      <td>False</td>\n",
       "      <td>[{'display_name': 'All Mail', 'id': '7dmj6rp7d...</td>\n",
       "      <td>Nylas Quickstart was granted access to your Go...</td>\n",
       "      <td>Security alert</td>\n",
       "      <td>&lt;!DOCTYPE html&gt;&lt;html lang=\"en\"&gt;&lt;head&gt;&lt;meta nam...</td>\n",
       "    </tr>\n",
       "    <tr>\n",
       "      <th>1</th>\n",
       "      <td>[]</td>\n",
       "      <td>[]</td>\n",
       "      <td>2023-09-28 13:51:31</td>\n",
       "      <td>[]</td>\n",
       "      <td>[]</td>\n",
       "      <td>[{'email': 'no-reply@accounts.google.com', 'na...</td>\n",
       "      <td>[{'email': 'sjoseph2552@gmail.com', 'name': ''}]</td>\n",
       "      <td>[]</td>\n",
       "      <td>message</td>\n",
       "      <td>True</td>\n",
       "      <td>False</td>\n",
       "      <td>[{'display_name': 'All Mail', 'id': '7dmj6rp7d...</td>\n",
       "      <td>A new sign-in on Windows sjoseph2552@gmail.com...</td>\n",
       "      <td>Security alert</td>\n",
       "      <td>&lt;!DOCTYPE html&gt;&lt;html lang=\"en\"&gt;&lt;head&gt;&lt;meta nam...</td>\n",
       "    </tr>\n",
       "    <tr>\n",
       "      <th>2</th>\n",
       "      <td>[]</td>\n",
       "      <td>[]</td>\n",
       "      <td>2023-09-28 12:57:41</td>\n",
       "      <td>[]</td>\n",
       "      <td>[]</td>\n",
       "      <td>[{'email': 'newsletters-noreply@linkedin.com',...</td>\n",
       "      <td>[{'email': 'sjoseph2552@gmail.com', 'name': 'S...</td>\n",
       "      <td>[]</td>\n",
       "      <td>message</td>\n",
       "      <td>True</td>\n",
       "      <td>False</td>\n",
       "      <td>[{'display_name': 'All Mail', 'id': '7dmj6rp7d...</td>\n",
       "      <td>GENERATIVE AI IN THE INSURANCE SECTOR As someo...</td>\n",
       "      <td>Reshaping the Insurance Field through the Impl...</td>\n",
       "      <td>&lt;html xmlns=\"http://www.w3.org/1999/xhtml\" lan...</td>\n",
       "    </tr>\n",
       "    <tr>\n",
       "      <th>3</th>\n",
       "      <td>[]</td>\n",
       "      <td>[]</td>\n",
       "      <td>2023-09-28 11:27:40</td>\n",
       "      <td>[]</td>\n",
       "      <td>[]</td>\n",
       "      <td>[{'email': 'newsletters-noreply@linkedin.com',...</td>\n",
       "      <td>[{'email': 'sjoseph2552@gmail.com', 'name': 'S...</td>\n",
       "      <td>[]</td>\n",
       "      <td>message</td>\n",
       "      <td>True</td>\n",
       "      <td>False</td>\n",
       "      <td>[{'display_name': 'All Mail', 'id': '7dmj6rp7d...</td>\n",
       "      <td>Tech companies are the most well positioned to...</td>\n",
       "      <td>Tech's Surprising Remote Work U-Turn</td>\n",
       "      <td>&lt;html xmlns=\"http://www.w3.org/1999/xhtml\" lan...</td>\n",
       "    </tr>\n",
       "    <tr>\n",
       "      <th>4</th>\n",
       "      <td>[]</td>\n",
       "      <td>[]</td>\n",
       "      <td>2023-09-28 10:57:42</td>\n",
       "      <td>[]</td>\n",
       "      <td>[]</td>\n",
       "      <td>[{'email': 'newsletters-noreply@linkedin.com',...</td>\n",
       "      <td>[{'email': 'sjoseph2552@gmail.com', 'name': 'S...</td>\n",
       "      <td>[]</td>\n",
       "      <td>message</td>\n",
       "      <td>True</td>\n",
       "      <td>False</td>\n",
       "      <td>[{'display_name': 'Inbox', 'id': '68xfa9k4c9pv...</td>\n",
       "      <td>Hey Everyone, I think the culmination of Gener...</td>\n",
       "      <td>Google DeepMind's Gemini is Arriving Soon</td>\n",
       "      <td>&lt;html xmlns=\"http://www.w3.org/1999/xhtml\" lan...</td>\n",
       "    </tr>\n",
       "    <tr>\n",
       "      <th>...</th>\n",
       "      <td>...</td>\n",
       "      <td>...</td>\n",
       "      <td>...</td>\n",
       "      <td>...</td>\n",
       "      <td>...</td>\n",
       "      <td>...</td>\n",
       "      <td>...</td>\n",
       "      <td>...</td>\n",
       "      <td>...</td>\n",
       "      <td>...</td>\n",
       "      <td>...</td>\n",
       "      <td>...</td>\n",
       "      <td>...</td>\n",
       "      <td>...</td>\n",
       "      <td>...</td>\n",
       "    </tr>\n",
       "    <tr>\n",
       "      <th>85</th>\n",
       "      <td>[]</td>\n",
       "      <td>[]</td>\n",
       "      <td>2023-09-23 19:27:42</td>\n",
       "      <td>[]</td>\n",
       "      <td>[]</td>\n",
       "      <td>[{'email': 'newsletters-noreply@linkedin.com',...</td>\n",
       "      <td>[{'email': 'sjoseph2552@gmail.com', 'name': 'S...</td>\n",
       "      <td>[]</td>\n",
       "      <td>message</td>\n",
       "      <td>True</td>\n",
       "      <td>False</td>\n",
       "      <td>[{'display_name': 'All Mail', 'id': '7dmj6rp7d...</td>\n",
       "      <td>Hey, in this issue: generative AI and intellec...</td>\n",
       "      <td>Artificial Intelligence #190</td>\n",
       "      <td>&lt;html xmlns=\"http://www.w3.org/1999/xhtml\" lan...</td>\n",
       "    </tr>\n",
       "    <tr>\n",
       "      <th>86</th>\n",
       "      <td>[]</td>\n",
       "      <td>[]</td>\n",
       "      <td>2023-09-23 18:14:29</td>\n",
       "      <td>[]</td>\n",
       "      <td>[]</td>\n",
       "      <td>[{'email': 'linkedin@e.linkedin.com', 'name': ...</td>\n",
       "      <td>[{'email': 'sjoseph2552@gmail.com', 'name': ''}]</td>\n",
       "      <td>[{'email': 'donotreply@e.linkedin.com', 'name'...</td>\n",
       "      <td>message</td>\n",
       "      <td>True</td>\n",
       "      <td>False</td>\n",
       "      <td>[{'display_name': 'Inbox', 'id': '68xfa9k4c9pv...</td>\n",
       "      <td>Information Technology Rules Annual Reminder ‌...</td>\n",
       "      <td>Information Technology Rules Annual Reminder</td>\n",
       "      <td>&lt;!DOCTYPE html PUBLIC \"-//W3C//DTD XHTML 1.0 S...</td>\n",
       "    </tr>\n",
       "    <tr>\n",
       "      <th>87</th>\n",
       "      <td>[]</td>\n",
       "      <td>[]</td>\n",
       "      <td>2023-09-23 16:40:31</td>\n",
       "      <td>[]</td>\n",
       "      <td>[]</td>\n",
       "      <td>[{'email': 'jobalerts-noreply@linkedin.com', '...</td>\n",
       "      <td>[{'email': 'sjoseph2552@gmail.com', 'name': 'S...</td>\n",
       "      <td>[]</td>\n",
       "      <td>message</td>\n",
       "      <td>True</td>\n",
       "      <td>False</td>\n",
       "      <td>[{'display_name': 'Inbox', 'id': '68xfa9k4c9pv...</td>\n",
       "      <td>Ford Motor Company Lead Automation Engineer - ...</td>\n",
       "      <td>“automation engineer”: Ford Motor Company - Le...</td>\n",
       "      <td>&lt;html xmlns=\"http://www.w3.org/1999/xhtml\" lan...</td>\n",
       "    </tr>\n",
       "    <tr>\n",
       "      <th>88</th>\n",
       "      <td>[]</td>\n",
       "      <td>[]</td>\n",
       "      <td>2023-09-23 13:55:54</td>\n",
       "      <td>[]</td>\n",
       "      <td>[]</td>\n",
       "      <td>[{'email': 'no-reply@e.udemymail.com', 'name':...</td>\n",
       "      <td>[{'email': 'sjoseph2552@gmail.com', 'name': ''}]</td>\n",
       "      <td>[]</td>\n",
       "      <td>message</td>\n",
       "      <td>True</td>\n",
       "      <td>False</td>\n",
       "      <td>[{'display_name': 'Category Updates', 'id': 'c...</td>\n",
       "      <td>New Promotional Announcement Hi Samuel, an ann...</td>\n",
       "      <td>ChatGPT complete guide : Mastering Conversatio...</td>\n",
       "      <td>&lt;!DOCTYPE HTML PUBLIC \"-//W3C//DTD HTML 4.01//...</td>\n",
       "    </tr>\n",
       "    <tr>\n",
       "      <th>89</th>\n",
       "      <td>[]</td>\n",
       "      <td>[]</td>\n",
       "      <td>2023-09-23 13:55:34</td>\n",
       "      <td>[]</td>\n",
       "      <td>[]</td>\n",
       "      <td>[{'email': 'notifications-noreply@linkedin.com...</td>\n",
       "      <td>[{'email': 'sjoseph2552@gmail.com', 'name': 'S...</td>\n",
       "      <td>[]</td>\n",
       "      <td>message</td>\n",
       "      <td>True</td>\n",
       "      <td>False</td>\n",
       "      <td>[{'display_name': 'Category Social', 'id': 'dd...</td>\n",
       "      <td>Here’s what’s happened since you were last on ...</td>\n",
       "      <td>🔎 You appeared in 52 searches this week</td>\n",
       "      <td>&lt;html xmlns=\"http://www.w3.org/1999/xhtml\" lan...</td>\n",
       "    </tr>\n",
       "  </tbody>\n",
       "</table>\n",
       "<p>90 rows × 15 columns</p>\n",
       "</div>"
      ],
      "text/plain": [
       "   bcc  cc         received_at events files   \n",
       "0   []  [] 2023-09-28 13:52:11     []    []  \\\n",
       "1   []  [] 2023-09-28 13:51:31     []    []   \n",
       "2   []  [] 2023-09-28 12:57:41     []    []   \n",
       "3   []  [] 2023-09-28 11:27:40     []    []   \n",
       "4   []  [] 2023-09-28 10:57:42     []    []   \n",
       "..  ..  ..                 ...    ...   ...   \n",
       "85  []  [] 2023-09-23 19:27:42     []    []   \n",
       "86  []  [] 2023-09-23 18:14:29     []    []   \n",
       "87  []  [] 2023-09-23 16:40:31     []    []   \n",
       "88  []  [] 2023-09-23 13:55:54     []    []   \n",
       "89  []  [] 2023-09-23 13:55:34     []    []   \n",
       "\n",
       "                                                 from   \n",
       "0   [{'email': 'no-reply@accounts.google.com', 'na...  \\\n",
       "1   [{'email': 'no-reply@accounts.google.com', 'na...   \n",
       "2   [{'email': 'newsletters-noreply@linkedin.com',...   \n",
       "3   [{'email': 'newsletters-noreply@linkedin.com',...   \n",
       "4   [{'email': 'newsletters-noreply@linkedin.com',...   \n",
       "..                                                ...   \n",
       "85  [{'email': 'newsletters-noreply@linkedin.com',...   \n",
       "86  [{'email': 'linkedin@e.linkedin.com', 'name': ...   \n",
       "87  [{'email': 'jobalerts-noreply@linkedin.com', '...   \n",
       "88  [{'email': 'no-reply@e.udemymail.com', 'name':...   \n",
       "89  [{'email': 'notifications-noreply@linkedin.com...   \n",
       "\n",
       "                                                   to   \n",
       "0    [{'email': 'sjoseph2552@gmail.com', 'name': ''}]  \\\n",
       "1    [{'email': 'sjoseph2552@gmail.com', 'name': ''}]   \n",
       "2   [{'email': 'sjoseph2552@gmail.com', 'name': 'S...   \n",
       "3   [{'email': 'sjoseph2552@gmail.com', 'name': 'S...   \n",
       "4   [{'email': 'sjoseph2552@gmail.com', 'name': 'S...   \n",
       "..                                                ...   \n",
       "85  [{'email': 'sjoseph2552@gmail.com', 'name': 'S...   \n",
       "86   [{'email': 'sjoseph2552@gmail.com', 'name': ''}]   \n",
       "87  [{'email': 'sjoseph2552@gmail.com', 'name': 'S...   \n",
       "88   [{'email': 'sjoseph2552@gmail.com', 'name': ''}]   \n",
       "89  [{'email': 'sjoseph2552@gmail.com', 'name': 'S...   \n",
       "\n",
       "                                             reply_to   object  unread   \n",
       "0                                                  []  message    True  \\\n",
       "1                                                  []  message    True   \n",
       "2                                                  []  message    True   \n",
       "3                                                  []  message    True   \n",
       "4                                                  []  message    True   \n",
       "..                                                ...      ...     ...   \n",
       "85                                                 []  message    True   \n",
       "86  [{'email': 'donotreply@e.linkedin.com', 'name'...  message    True   \n",
       "87                                                 []  message    True   \n",
       "88                                                 []  message    True   \n",
       "89                                                 []  message    True   \n",
       "\n",
       "    starred                                            _labels   \n",
       "0     False  [{'display_name': 'All Mail', 'id': '7dmj6rp7d...  \\\n",
       "1     False  [{'display_name': 'All Mail', 'id': '7dmj6rp7d...   \n",
       "2     False  [{'display_name': 'All Mail', 'id': '7dmj6rp7d...   \n",
       "3     False  [{'display_name': 'All Mail', 'id': '7dmj6rp7d...   \n",
       "4     False  [{'display_name': 'Inbox', 'id': '68xfa9k4c9pv...   \n",
       "..      ...                                                ...   \n",
       "85    False  [{'display_name': 'All Mail', 'id': '7dmj6rp7d...   \n",
       "86    False  [{'display_name': 'Inbox', 'id': '68xfa9k4c9pv...   \n",
       "87    False  [{'display_name': 'Inbox', 'id': '68xfa9k4c9pv...   \n",
       "88    False  [{'display_name': 'Category Updates', 'id': 'c...   \n",
       "89    False  [{'display_name': 'Category Social', 'id': 'dd...   \n",
       "\n",
       "                                              snippet   \n",
       "0   Nylas Quickstart was granted access to your Go...  \\\n",
       "1   A new sign-in on Windows sjoseph2552@gmail.com...   \n",
       "2   GENERATIVE AI IN THE INSURANCE SECTOR As someo...   \n",
       "3   Tech companies are the most well positioned to...   \n",
       "4   Hey Everyone, I think the culmination of Gener...   \n",
       "..                                                ...   \n",
       "85  Hey, in this issue: generative AI and intellec...   \n",
       "86  Information Technology Rules Annual Reminder ‌...   \n",
       "87  Ford Motor Company Lead Automation Engineer - ...   \n",
       "88  New Promotional Announcement Hi Samuel, an ann...   \n",
       "89  Here’s what’s happened since you were last on ...   \n",
       "\n",
       "                                              subject   \n",
       "0                                      Security alert  \\\n",
       "1                                      Security alert   \n",
       "2   Reshaping the Insurance Field through the Impl...   \n",
       "3                Tech's Surprising Remote Work U-Turn   \n",
       "4           Google DeepMind's Gemini is Arriving Soon   \n",
       "..                                                ...   \n",
       "85                       Artificial Intelligence #190   \n",
       "86       Information Technology Rules Annual Reminder   \n",
       "87  “automation engineer”: Ford Motor Company - Le...   \n",
       "88  ChatGPT complete guide : Mastering Conversatio...   \n",
       "89            🔎 You appeared in 52 searches this week   \n",
       "\n",
       "                                                 body  \n",
       "0   <!DOCTYPE html><html lang=\"en\"><head><meta nam...  \n",
       "1   <!DOCTYPE html><html lang=\"en\"><head><meta nam...  \n",
       "2   <html xmlns=\"http://www.w3.org/1999/xhtml\" lan...  \n",
       "3   <html xmlns=\"http://www.w3.org/1999/xhtml\" lan...  \n",
       "4   <html xmlns=\"http://www.w3.org/1999/xhtml\" lan...  \n",
       "..                                                ...  \n",
       "85  <html xmlns=\"http://www.w3.org/1999/xhtml\" lan...  \n",
       "86  <!DOCTYPE html PUBLIC \"-//W3C//DTD XHTML 1.0 S...  \n",
       "87  <html xmlns=\"http://www.w3.org/1999/xhtml\" lan...  \n",
       "88  <!DOCTYPE HTML PUBLIC \"-//W3C//DTD HTML 4.01//...  \n",
       "89  <html xmlns=\"http://www.w3.org/1999/xhtml\" lan...  \n",
       "\n",
       "[90 rows x 15 columns]"
      ]
     },
     "execution_count": 3,
     "metadata": {},
     "output_type": "execute_result"
    }
   ],
   "source": [
    "df"
   ]
  },
  {
   "cell_type": "code",
   "execution_count": 4,
   "id": "dbf30c6f",
   "metadata": {},
   "outputs": [
    {
     "data": {
      "text/plain": [
       "[]"
      ]
     },
     "execution_count": 4,
     "metadata": {},
     "output_type": "execute_result"
    }
   ],
   "source": [
    "df.reply_to[0]"
   ]
  },
  {
   "cell_type": "code",
   "execution_count": 5,
   "id": "6cc5f5c3",
   "metadata": {
    "scrolled": true
   },
   "outputs": [],
   "source": [
    "df_g2=df.unread.value_counts().reset_index()"
   ]
  },
  {
   "cell_type": "code",
   "execution_count": 6,
   "id": "1b5740fc",
   "metadata": {},
   "outputs": [
    {
     "data": {
      "text/html": [
       "<div>\n",
       "<style scoped>\n",
       "    .dataframe tbody tr th:only-of-type {\n",
       "        vertical-align: middle;\n",
       "    }\n",
       "\n",
       "    .dataframe tbody tr th {\n",
       "        vertical-align: top;\n",
       "    }\n",
       "\n",
       "    .dataframe thead th {\n",
       "        text-align: right;\n",
       "    }\n",
       "</style>\n",
       "<table border=\"1\" class=\"dataframe\">\n",
       "  <thead>\n",
       "    <tr style=\"text-align: right;\">\n",
       "      <th></th>\n",
       "      <th>unread</th>\n",
       "      <th>count</th>\n",
       "    </tr>\n",
       "  </thead>\n",
       "  <tbody>\n",
       "    <tr>\n",
       "      <th>0</th>\n",
       "      <td>True</td>\n",
       "      <td>90</td>\n",
       "    </tr>\n",
       "  </tbody>\n",
       "</table>\n",
       "</div>"
      ],
      "text/plain": [
       "   unread  count\n",
       "0    True     90"
      ]
     },
     "execution_count": 6,
     "metadata": {},
     "output_type": "execute_result"
    }
   ],
   "source": [
    "df_g2"
   ]
  },
  {
   "cell_type": "code",
   "execution_count": 7,
   "id": "b0cb0d01",
   "metadata": {},
   "outputs": [],
   "source": [
    "import seaborn as sns"
   ]
  },
  {
   "cell_type": "code",
   "execution_count": 8,
   "id": "3340479d",
   "metadata": {
    "scrolled": false
   },
   "outputs": [
    {
     "data": {
      "text/plain": [
       "<Axes: xlabel='unread', ylabel='count'>"
      ]
     },
     "execution_count": 8,
     "metadata": {},
     "output_type": "execute_result"
    },
    {
     "data": {
      "image/png": "[encoded data removed]",
      "text/plain": [
       "<Figure size 640x480 with 1 Axes>"
      ]
     },
     "metadata": {},
     "output_type": "display_data"
    }
   ],
   "source": [
    "sns.barplot(data=df_g2,x=\"unread\",y=\"count\")"
   ]
  },
  {
   "cell_type": "code",
   "execution_count": 9,
   "id": "818b38b8",
   "metadata": {},
   "outputs": [],
   "source": [
    "from bs4 import BeautifulSoup"
   ]
  },
  {
   "cell_type": "code",
   "execution_count": 10,
   "id": "f9e6da67",
   "metadata": {},
   "outputs": [],
   "source": [
    "from bs4 import BeautifulSoup\n",
    "\n",
    "def clean(k):\n",
    "    html_string = k\n",
    "    soup = BeautifulSoup(html_string, 'html.parser')\n",
    "    plain_text = soup.get_text().replace('\"', \"'\")\n",
    "    return plain_text"
   ]
  },
  {
   "cell_type": "code",
   "execution_count": 11,
   "id": "e84833b0",
   "metadata": {},
   "outputs": [],
   "source": [
    "df[\"clean_content\"]=df.body.apply(clean)"
   ]
  },
  {
   "cell_type": "code",
   "execution_count": 12,
   "id": "c739489c",
   "metadata": {},
   "outputs": [
    {
     "data": {
      "text/plain": [
       "'A new sign-in on Windows sjoseph2552@gmail.com We noticed a new sign-in to your Google Account on a Windows device. If this was you, you don’t need to do anything. If not, we’ll help you secure your account.Check activityYou can also see security activity athttps://myaccount.google.com/notificationsYou received this email to let you know about important changes to your Google Account and services.© 2023 Google LLC, 1600 Amphitheatre Parkway, Mountain View, CA 94043, USA'"
      ]
     },
     "execution_count": 12,
     "metadata": {},
     "output_type": "execute_result"
    }
   ],
   "source": [
    "df.clean_content[1]"
   ]
  },
  {
   "cell_type": "code",
   "execution_count": null,
   "id": "e02543ee",
   "metadata": {},
   "outputs": [],
   "source": []
  },
  {
   "cell_type": "code",
   "execution_count": 13,
   "id": "3d774520",
   "metadata": {},
   "outputs": [],
   "source": [
    "df[\"replied_to\"]=df.reply_to.apply(lambda x:x[0][\"email\"] if x else \"NO REPLY SENT\")"
   ]
  },
  {
   "cell_type": "code",
   "execution_count": 14,
   "id": "4c345ff9",
   "metadata": {
    "scrolled": true
   },
   "outputs": [],
   "source": [
    "df[\"file_type\"]=df.files.apply(lambda x: x[0][\"content_type\"] if x else \"NO ATTACHMENTS\")"
   ]
  },
  {
   "cell_type": "code",
   "execution_count": 15,
   "id": "ff3e3a73",
   "metadata": {},
   "outputs": [
    {
     "data": {
      "text/plain": [
       "[]"
      ]
     },
     "execution_count": 15,
     "metadata": {},
     "output_type": "execute_result"
    }
   ],
   "source": [
    "df.files[0]"
   ]
  },
  {
   "cell_type": "code",
   "execution_count": 16,
   "id": "78a7b18b",
   "metadata": {},
   "outputs": [],
   "source": [
    "import matplotlib.pyplot as plt\n",
    "import seaborn as sns"
   ]
  },
  {
   "cell_type": "code",
   "execution_count": null,
   "id": "43c8f37f",
   "metadata": {
    "scrolled": true
   },
   "outputs": [],
   "source": []
  },
  {
   "cell_type": "code",
   "execution_count": 17,
   "id": "f50b744c",
   "metadata": {},
   "outputs": [],
   "source": [
    "df[\"recived_day\"]=df.received_at.dt.day"
   ]
  },
  {
   "cell_type": "code",
   "execution_count": 18,
   "id": "afb98ead",
   "metadata": {},
   "outputs": [],
   "source": [
    "df[\"recived_hour\"]=df.received_at.dt.hour"
   ]
  },
  {
   "cell_type": "code",
   "execution_count": 19,
   "id": "a0697daa",
   "metadata": {
    "scrolled": true
   },
   "outputs": [
    {
     "data": {
      "text/plain": [
       "[{'display_name': 'All Mail',\n",
       "  'id': '7dmj6rp7dh8w3nzqkh0hlc6mg',\n",
       "  'name': 'all'},\n",
       " {'display_name': 'Category Updates',\n",
       "  'id': 'cchmfpw98x8xdfzwoznzcohl4',\n",
       "  'name': 'updates'},\n",
       " {'display_name': 'Inbox', 'id': '68xfa9k4c9pvash1ghkykx11x', 'name': 'inbox'}]"
      ]
     },
     "execution_count": 19,
     "metadata": {},
     "output_type": "execute_result"
    }
   ],
   "source": [
    "df[\"_labels\"][0]"
   ]
  },
  {
   "cell_type": "code",
   "execution_count": 20,
   "id": "298206d2",
   "metadata": {},
   "outputs": [
    {
     "data": {
      "text/plain": [
       "bcc\n",
       "[]    90\n",
       "Name: count, dtype: int64"
      ]
     },
     "execution_count": 20,
     "metadata": {},
     "output_type": "execute_result"
    }
   ],
   "source": [
    "df.bcc.value_counts()"
   ]
  },
  {
   "cell_type": "code",
   "execution_count": 21,
   "id": "d5a0d18f",
   "metadata": {
    "scrolled": true
   },
   "outputs": [],
   "source": [
    "df[\"from_email\"]=df[\"from\"].apply(lambda x: x[0][\"email\"])"
   ]
  },
  {
   "cell_type": "code",
   "execution_count": 22,
   "id": "2de92753",
   "metadata": {},
   "outputs": [],
   "source": [
    "df[\"from_name\"]=df[\"from\"].apply(lambda x: x[0][\"name\"])"
   ]
  },
  {
   "cell_type": "code",
   "execution_count": 23,
   "id": "5db4ef67",
   "metadata": {
    "scrolled": true
   },
   "outputs": [],
   "source": [
    "df[\"email_from\"]=df[\"from\"].apply(lambda x: x[0][\"email\"])"
   ]
  },
  {
   "cell_type": "code",
   "execution_count": 24,
   "id": "bc001c53",
   "metadata": {},
   "outputs": [
    {
     "data": {
      "text/plain": [
       "[{'display_name': 'All Mail',\n",
       "  'id': '7dmj6rp7dh8w3nzqkh0hlc6mg',\n",
       "  'name': 'all'},\n",
       " {'display_name': 'Category Updates',\n",
       "  'id': 'cchmfpw98x8xdfzwoznzcohl4',\n",
       "  'name': 'updates'},\n",
       " {'display_name': 'Inbox', 'id': '68xfa9k4c9pvash1ghkykx11x', 'name': 'inbox'}]"
      ]
     },
     "execution_count": 24,
     "metadata": {},
     "output_type": "execute_result"
    }
   ],
   "source": [
    "df._labels[0]"
   ]
  },
  {
   "cell_type": "code",
   "execution_count": 25,
   "id": "d039246a",
   "metadata": {
    "scrolled": true
   },
   "outputs": [
    {
     "data": {
      "text/plain": [
       "from_email\n",
       "newsletters-noreply@linkedin.com    34\n",
       "no-reply@e.udemymail.com            22\n",
       "invitations@linkedin.com             4\n",
       "jobalerts-noreply@linkedin.com       4\n",
       "team@pianote.com                     3\n",
       "Name: count, dtype: int64"
      ]
     },
     "execution_count": 25,
     "metadata": {},
     "output_type": "execute_result"
    }
   ],
   "source": [
    "df.from_email.value_counts()[:5]"
   ]
  },
  {
   "cell_type": "code",
   "execution_count": 26,
   "id": "ad921c32",
   "metadata": {
    "scrolled": true
   },
   "outputs": [
    {
     "data": {
      "text/plain": [
       "file_type\n",
       "NO ATTACHMENTS     89\n",
       "text/x-amp-html     1\n",
       "Name: count, dtype: int64"
      ]
     },
     "execution_count": 26,
     "metadata": {},
     "output_type": "execute_result"
    }
   ],
   "source": [
    "df.file_type.value_counts()"
   ]
  },
  {
   "cell_type": "code",
   "execution_count": 27,
   "id": "0d40f0c2",
   "metadata": {},
   "outputs": [
    {
     "data": {
      "text/plain": [
       "replied_to\n",
       "NO REPLY SENT                80\n",
       "contactus@shine.com           2\n",
       "donotreply@e.linkedin.com     2\n",
       "thebatch@deeplearning.ai      1\n",
       "hello@deeplearning.ai         1\n",
       "Name: count, dtype: int64"
      ]
     },
     "execution_count": 27,
     "metadata": {},
     "output_type": "execute_result"
    }
   ],
   "source": [
    "df.replied_to.value_counts()[:5]"
   ]
  },
  {
   "cell_type": "code",
   "execution_count": 28,
   "id": "1d319a44",
   "metadata": {
    "scrolled": true
   },
   "outputs": [
    {
     "data": {
      "text/html": [
       "<div>\n",
       "<style scoped>\n",
       "    .dataframe tbody tr th:only-of-type {\n",
       "        vertical-align: middle;\n",
       "    }\n",
       "\n",
       "    .dataframe tbody tr th {\n",
       "        vertical-align: top;\n",
       "    }\n",
       "\n",
       "    .dataframe thead th {\n",
       "        text-align: right;\n",
       "    }\n",
       "</style>\n",
       "<table border=\"1\" class=\"dataframe\">\n",
       "  <thead>\n",
       "    <tr style=\"text-align: right;\">\n",
       "      <th></th>\n",
       "      <th>bcc</th>\n",
       "      <th>cc</th>\n",
       "      <th>received_at</th>\n",
       "      <th>events</th>\n",
       "      <th>files</th>\n",
       "      <th>from</th>\n",
       "      <th>to</th>\n",
       "      <th>reply_to</th>\n",
       "      <th>object</th>\n",
       "      <th>unread</th>\n",
       "      <th>...</th>\n",
       "      <th>subject</th>\n",
       "      <th>body</th>\n",
       "      <th>clean_content</th>\n",
       "      <th>replied_to</th>\n",
       "      <th>file_type</th>\n",
       "      <th>recived_day</th>\n",
       "      <th>recived_hour</th>\n",
       "      <th>from_email</th>\n",
       "      <th>from_name</th>\n",
       "      <th>email_from</th>\n",
       "    </tr>\n",
       "  </thead>\n",
       "  <tbody>\n",
       "    <tr>\n",
       "      <th>0</th>\n",
       "      <td>[]</td>\n",
       "      <td>[]</td>\n",
       "      <td>2023-09-28 13:52:11</td>\n",
       "      <td>[]</td>\n",
       "      <td>[]</td>\n",
       "      <td>[{'email': 'no-reply@accounts.google.com', 'na...</td>\n",
       "      <td>[{'email': 'sjoseph2552@gmail.com', 'name': ''}]</td>\n",
       "      <td>[]</td>\n",
       "      <td>message</td>\n",
       "      <td>True</td>\n",
       "      <td>...</td>\n",
       "      <td>Security alert</td>\n",
       "      <td>&lt;!DOCTYPE html&gt;&lt;html lang=\"en\"&gt;&lt;head&gt;&lt;meta nam...</td>\n",
       "      <td>Nylas Quickstart was granted access to your Go...</td>\n",
       "      <td>NO REPLY SENT</td>\n",
       "      <td>NO ATTACHMENTS</td>\n",
       "      <td>28</td>\n",
       "      <td>13</td>\n",
       "      <td>no-reply@accounts.google.com</td>\n",
       "      <td>Google</td>\n",
       "      <td>no-reply@accounts.google.com</td>\n",
       "    </tr>\n",
       "    <tr>\n",
       "      <th>1</th>\n",
       "      <td>[]</td>\n",
       "      <td>[]</td>\n",
       "      <td>2023-09-28 13:51:31</td>\n",
       "      <td>[]</td>\n",
       "      <td>[]</td>\n",
       "      <td>[{'email': 'no-reply@accounts.google.com', 'na...</td>\n",
       "      <td>[{'email': 'sjoseph2552@gmail.com', 'name': ''}]</td>\n",
       "      <td>[]</td>\n",
       "      <td>message</td>\n",
       "      <td>True</td>\n",
       "      <td>...</td>\n",
       "      <td>Security alert</td>\n",
       "      <td>&lt;!DOCTYPE html&gt;&lt;html lang=\"en\"&gt;&lt;head&gt;&lt;meta nam...</td>\n",
       "      <td>A new sign-in on Windows sjoseph2552@gmail.com...</td>\n",
       "      <td>NO REPLY SENT</td>\n",
       "      <td>NO ATTACHMENTS</td>\n",
       "      <td>28</td>\n",
       "      <td>13</td>\n",
       "      <td>no-reply@accounts.google.com</td>\n",
       "      <td>Google</td>\n",
       "      <td>no-reply@accounts.google.com</td>\n",
       "    </tr>\n",
       "    <tr>\n",
       "      <th>2</th>\n",
       "      <td>[]</td>\n",
       "      <td>[]</td>\n",
       "      <td>2023-09-28 12:57:41</td>\n",
       "      <td>[]</td>\n",
       "      <td>[]</td>\n",
       "      <td>[{'email': 'newsletters-noreply@linkedin.com',...</td>\n",
       "      <td>[{'email': 'sjoseph2552@gmail.com', 'name': 'S...</td>\n",
       "      <td>[]</td>\n",
       "      <td>message</td>\n",
       "      <td>True</td>\n",
       "      <td>...</td>\n",
       "      <td>Reshaping the Insurance Field through the Impl...</td>\n",
       "      <td>&lt;html xmlns=\"http://www.w3.org/1999/xhtml\" lan...</td>\n",
       "      <td>GENERATIVE AI IN THE INSURANCE S...</td>\n",
       "      <td>NO REPLY SENT</td>\n",
       "      <td>NO ATTACHMENTS</td>\n",
       "      <td>28</td>\n",
       "      <td>12</td>\n",
       "      <td>newsletters-noreply@linkedin.com</td>\n",
       "      <td>Dr. Jagrrit via LinkedIn</td>\n",
       "      <td>newsletters-noreply@linkedin.com</td>\n",
       "    </tr>\n",
       "    <tr>\n",
       "      <th>3</th>\n",
       "      <td>[]</td>\n",
       "      <td>[]</td>\n",
       "      <td>2023-09-28 11:27:40</td>\n",
       "      <td>[]</td>\n",
       "      <td>[]</td>\n",
       "      <td>[{'email': 'newsletters-noreply@linkedin.com',...</td>\n",
       "      <td>[{'email': 'sjoseph2552@gmail.com', 'name': 'S...</td>\n",
       "      <td>[]</td>\n",
       "      <td>message</td>\n",
       "      <td>True</td>\n",
       "      <td>...</td>\n",
       "      <td>Tech's Surprising Remote Work U-Turn</td>\n",
       "      <td>&lt;html xmlns=\"http://www.w3.org/1999/xhtml\" lan...</td>\n",
       "      <td>Tech companies are the most well...</td>\n",
       "      <td>NO REPLY SENT</td>\n",
       "      <td>NO ATTACHMENTS</td>\n",
       "      <td>28</td>\n",
       "      <td>11</td>\n",
       "      <td>newsletters-noreply@linkedin.com</td>\n",
       "      <td>BBC News via LinkedIn</td>\n",
       "      <td>newsletters-noreply@linkedin.com</td>\n",
       "    </tr>\n",
       "    <tr>\n",
       "      <th>4</th>\n",
       "      <td>[]</td>\n",
       "      <td>[]</td>\n",
       "      <td>2023-09-28 10:57:42</td>\n",
       "      <td>[]</td>\n",
       "      <td>[]</td>\n",
       "      <td>[{'email': 'newsletters-noreply@linkedin.com',...</td>\n",
       "      <td>[{'email': 'sjoseph2552@gmail.com', 'name': 'S...</td>\n",
       "      <td>[]</td>\n",
       "      <td>message</td>\n",
       "      <td>True</td>\n",
       "      <td>...</td>\n",
       "      <td>Google DeepMind's Gemini is Arriving Soon</td>\n",
       "      <td>&lt;html xmlns=\"http://www.w3.org/1999/xhtml\" lan...</td>\n",
       "      <td>Hey Everyone, I think the culmin...</td>\n",
       "      <td>NO REPLY SENT</td>\n",
       "      <td>NO ATTACHMENTS</td>\n",
       "      <td>28</td>\n",
       "      <td>10</td>\n",
       "      <td>newsletters-noreply@linkedin.com</td>\n",
       "      <td>Michael Spencer via LinkedIn</td>\n",
       "      <td>newsletters-noreply@linkedin.com</td>\n",
       "    </tr>\n",
       "    <tr>\n",
       "      <th>...</th>\n",
       "      <td>...</td>\n",
       "      <td>...</td>\n",
       "      <td>...</td>\n",
       "      <td>...</td>\n",
       "      <td>...</td>\n",
       "      <td>...</td>\n",
       "      <td>...</td>\n",
       "      <td>...</td>\n",
       "      <td>...</td>\n",
       "      <td>...</td>\n",
       "      <td>...</td>\n",
       "      <td>...</td>\n",
       "      <td>...</td>\n",
       "      <td>...</td>\n",
       "      <td>...</td>\n",
       "      <td>...</td>\n",
       "      <td>...</td>\n",
       "      <td>...</td>\n",
       "      <td>...</td>\n",
       "      <td>...</td>\n",
       "      <td>...</td>\n",
       "    </tr>\n",
       "    <tr>\n",
       "      <th>85</th>\n",
       "      <td>[]</td>\n",
       "      <td>[]</td>\n",
       "      <td>2023-09-23 19:27:42</td>\n",
       "      <td>[]</td>\n",
       "      <td>[]</td>\n",
       "      <td>[{'email': 'newsletters-noreply@linkedin.com',...</td>\n",
       "      <td>[{'email': 'sjoseph2552@gmail.com', 'name': 'S...</td>\n",
       "      <td>[]</td>\n",
       "      <td>message</td>\n",
       "      <td>True</td>\n",
       "      <td>...</td>\n",
       "      <td>Artificial Intelligence #190</td>\n",
       "      <td>&lt;html xmlns=\"http://www.w3.org/1999/xhtml\" lan...</td>\n",
       "      <td>Hey, in this issue: generative A...</td>\n",
       "      <td>NO REPLY SENT</td>\n",
       "      <td>NO ATTACHMENTS</td>\n",
       "      <td>23</td>\n",
       "      <td>19</td>\n",
       "      <td>newsletters-noreply@linkedin.com</td>\n",
       "      <td>Andriy Burkov via LinkedIn</td>\n",
       "      <td>newsletters-noreply@linkedin.com</td>\n",
       "    </tr>\n",
       "    <tr>\n",
       "      <th>86</th>\n",
       "      <td>[]</td>\n",
       "      <td>[]</td>\n",
       "      <td>2023-09-23 18:14:29</td>\n",
       "      <td>[]</td>\n",
       "      <td>[]</td>\n",
       "      <td>[{'email': 'linkedin@e.linkedin.com', 'name': ...</td>\n",
       "      <td>[{'email': 'sjoseph2552@gmail.com', 'name': ''}]</td>\n",
       "      <td>[{'email': 'donotreply@e.linkedin.com', 'name'...</td>\n",
       "      <td>message</td>\n",
       "      <td>True</td>\n",
       "      <td>...</td>\n",
       "      <td>Information Technology Rules Annual Reminder</td>\n",
       "      <td>&lt;!DOCTYPE html PUBLIC \"-//W3C//DTD XHTML 1.0 S...</td>\n",
       "      <td>\\n\\n\\n\\n\\n\\n\\n\\nLinkedIn\\n\\n\\n\\n\\n\\n\\n\\n\\nInfo...</td>\n",
       "      <td>donotreply@e.linkedin.com</td>\n",
       "      <td>NO ATTACHMENTS</td>\n",
       "      <td>23</td>\n",
       "      <td>18</td>\n",
       "      <td>linkedin@e.linkedin.com</td>\n",
       "      <td>LinkedIn Legal</td>\n",
       "      <td>linkedin@e.linkedin.com</td>\n",
       "    </tr>\n",
       "    <tr>\n",
       "      <th>87</th>\n",
       "      <td>[]</td>\n",
       "      <td>[]</td>\n",
       "      <td>2023-09-23 16:40:31</td>\n",
       "      <td>[]</td>\n",
       "      <td>[]</td>\n",
       "      <td>[{'email': 'jobalerts-noreply@linkedin.com', '...</td>\n",
       "      <td>[{'email': 'sjoseph2552@gmail.com', 'name': 'S...</td>\n",
       "      <td>[]</td>\n",
       "      <td>message</td>\n",
       "      <td>True</td>\n",
       "      <td>...</td>\n",
       "      <td>“automation engineer”: Ford Motor Company - Le...</td>\n",
       "      <td>&lt;html xmlns=\"http://www.w3.org/1999/xhtml\" lan...</td>\n",
       "      <td>Ford Motor Company Lead Automati...</td>\n",
       "      <td>NO REPLY SENT</td>\n",
       "      <td>NO ATTACHMENTS</td>\n",
       "      <td>23</td>\n",
       "      <td>16</td>\n",
       "      <td>jobalerts-noreply@linkedin.com</td>\n",
       "      <td>LinkedIn Job Alerts</td>\n",
       "      <td>jobalerts-noreply@linkedin.com</td>\n",
       "    </tr>\n",
       "    <tr>\n",
       "      <th>88</th>\n",
       "      <td>[]</td>\n",
       "      <td>[]</td>\n",
       "      <td>2023-09-23 13:55:54</td>\n",
       "      <td>[]</td>\n",
       "      <td>[]</td>\n",
       "      <td>[{'email': 'no-reply@e.udemymail.com', 'name':...</td>\n",
       "      <td>[{'email': 'sjoseph2552@gmail.com', 'name': ''}]</td>\n",
       "      <td>[]</td>\n",
       "      <td>message</td>\n",
       "      <td>True</td>\n",
       "      <td>...</td>\n",
       "      <td>ChatGPT complete guide : Mastering Conversatio...</td>\n",
       "      <td>&lt;!DOCTYPE HTML PUBLIC \"-//W3C//DTD HTML 4.01//...</td>\n",
       "      <td>\\n\\n\\n\\n\\nUdemy\\n\\n\\n\\n\\n\\n \\n\\n\\n\\n\\n\\n\\n    ...</td>\n",
       "      <td>NO REPLY SENT</td>\n",
       "      <td>NO ATTACHMENTS</td>\n",
       "      <td>23</td>\n",
       "      <td>13</td>\n",
       "      <td>no-reply@e.udemymail.com</td>\n",
       "      <td>Udemy Instructor: Jayanta Sarkar</td>\n",
       "      <td>no-reply@e.udemymail.com</td>\n",
       "    </tr>\n",
       "    <tr>\n",
       "      <th>89</th>\n",
       "      <td>[]</td>\n",
       "      <td>[]</td>\n",
       "      <td>2023-09-23 13:55:34</td>\n",
       "      <td>[]</td>\n",
       "      <td>[]</td>\n",
       "      <td>[{'email': 'notifications-noreply@linkedin.com...</td>\n",
       "      <td>[{'email': 'sjoseph2552@gmail.com', 'name': 'S...</td>\n",
       "      <td>[]</td>\n",
       "      <td>message</td>\n",
       "      <td>True</td>\n",
       "      <td>...</td>\n",
       "      <td>🔎 You appeared in 52 searches this week</td>\n",
       "      <td>&lt;html xmlns=\"http://www.w3.org/1999/xhtml\" lan...</td>\n",
       "      <td>Here’s what’s happened since you...</td>\n",
       "      <td>NO REPLY SENT</td>\n",
       "      <td>NO ATTACHMENTS</td>\n",
       "      <td>23</td>\n",
       "      <td>13</td>\n",
       "      <td>notifications-noreply@linkedin.com</td>\n",
       "      <td>LinkedIn</td>\n",
       "      <td>notifications-noreply@linkedin.com</td>\n",
       "    </tr>\n",
       "  </tbody>\n",
       "</table>\n",
       "<p>90 rows × 23 columns</p>\n",
       "</div>"
      ],
      "text/plain": [
       "   bcc  cc         received_at events files   \n",
       "0   []  [] 2023-09-28 13:52:11     []    []  \\\n",
       "1   []  [] 2023-09-28 13:51:31     []    []   \n",
       "2   []  [] 2023-09-28 12:57:41     []    []   \n",
       "3   []  [] 2023-09-28 11:27:40     []    []   \n",
       "4   []  [] 2023-09-28 10:57:42     []    []   \n",
       "..  ..  ..                 ...    ...   ...   \n",
       "85  []  [] 2023-09-23 19:27:42     []    []   \n",
       "86  []  [] 2023-09-23 18:14:29     []    []   \n",
       "87  []  [] 2023-09-23 16:40:31     []    []   \n",
       "88  []  [] 2023-09-23 13:55:54     []    []   \n",
       "89  []  [] 2023-09-23 13:55:34     []    []   \n",
       "\n",
       "                                                 from   \n",
       "0   [{'email': 'no-reply@accounts.google.com', 'na...  \\\n",
       "1   [{'email': 'no-reply@accounts.google.com', 'na...   \n",
       "2   [{'email': 'newsletters-noreply@linkedin.com',...   \n",
       "3   [{'email': 'newsletters-noreply@linkedin.com',...   \n",
       "4   [{'email': 'newsletters-noreply@linkedin.com',...   \n",
       "..                                                ...   \n",
       "85  [{'email': 'newsletters-noreply@linkedin.com',...   \n",
       "86  [{'email': 'linkedin@e.linkedin.com', 'name': ...   \n",
       "87  [{'email': 'jobalerts-noreply@linkedin.com', '...   \n",
       "88  [{'email': 'no-reply@e.udemymail.com', 'name':...   \n",
       "89  [{'email': 'notifications-noreply@linkedin.com...   \n",
       "\n",
       "                                                   to   \n",
       "0    [{'email': 'sjoseph2552@gmail.com', 'name': ''}]  \\\n",
       "1    [{'email': 'sjoseph2552@gmail.com', 'name': ''}]   \n",
       "2   [{'email': 'sjoseph2552@gmail.com', 'name': 'S...   \n",
       "3   [{'email': 'sjoseph2552@gmail.com', 'name': 'S...   \n",
       "4   [{'email': 'sjoseph2552@gmail.com', 'name': 'S...   \n",
       "..                                                ...   \n",
       "85  [{'email': 'sjoseph2552@gmail.com', 'name': 'S...   \n",
       "86   [{'email': 'sjoseph2552@gmail.com', 'name': ''}]   \n",
       "87  [{'email': 'sjoseph2552@gmail.com', 'name': 'S...   \n",
       "88   [{'email': 'sjoseph2552@gmail.com', 'name': ''}]   \n",
       "89  [{'email': 'sjoseph2552@gmail.com', 'name': 'S...   \n",
       "\n",
       "                                             reply_to   object  unread  ...   \n",
       "0                                                  []  message    True  ...  \\\n",
       "1                                                  []  message    True  ...   \n",
       "2                                                  []  message    True  ...   \n",
       "3                                                  []  message    True  ...   \n",
       "4                                                  []  message    True  ...   \n",
       "..                                                ...      ...     ...  ...   \n",
       "85                                                 []  message    True  ...   \n",
       "86  [{'email': 'donotreply@e.linkedin.com', 'name'...  message    True  ...   \n",
       "87                                                 []  message    True  ...   \n",
       "88                                                 []  message    True  ...   \n",
       "89                                                 []  message    True  ...   \n",
       "\n",
       "                                              subject   \n",
       "0                                      Security alert  \\\n",
       "1                                      Security alert   \n",
       "2   Reshaping the Insurance Field through the Impl...   \n",
       "3                Tech's Surprising Remote Work U-Turn   \n",
       "4           Google DeepMind's Gemini is Arriving Soon   \n",
       "..                                                ...   \n",
       "85                       Artificial Intelligence #190   \n",
       "86       Information Technology Rules Annual Reminder   \n",
       "87  “automation engineer”: Ford Motor Company - Le...   \n",
       "88  ChatGPT complete guide : Mastering Conversatio...   \n",
       "89            🔎 You appeared in 52 searches this week   \n",
       "\n",
       "                                                 body   \n",
       "0   <!DOCTYPE html><html lang=\"en\"><head><meta nam...  \\\n",
       "1   <!DOCTYPE html><html lang=\"en\"><head><meta nam...   \n",
       "2   <html xmlns=\"http://www.w3.org/1999/xhtml\" lan...   \n",
       "3   <html xmlns=\"http://www.w3.org/1999/xhtml\" lan...   \n",
       "4   <html xmlns=\"http://www.w3.org/1999/xhtml\" lan...   \n",
       "..                                                ...   \n",
       "85  <html xmlns=\"http://www.w3.org/1999/xhtml\" lan...   \n",
       "86  <!DOCTYPE html PUBLIC \"-//W3C//DTD XHTML 1.0 S...   \n",
       "87  <html xmlns=\"http://www.w3.org/1999/xhtml\" lan...   \n",
       "88  <!DOCTYPE HTML PUBLIC \"-//W3C//DTD HTML 4.01//...   \n",
       "89  <html xmlns=\"http://www.w3.org/1999/xhtml\" lan...   \n",
       "\n",
       "                                        clean_content   \n",
       "0   Nylas Quickstart was granted access to your Go...  \\\n",
       "1   A new sign-in on Windows sjoseph2552@gmail.com...   \n",
       "2                 GENERATIVE AI IN THE INSURANCE S...   \n",
       "3                 Tech companies are the most well...   \n",
       "4                 Hey Everyone, I think the culmin...   \n",
       "..                                                ...   \n",
       "85                Hey, in this issue: generative A...   \n",
       "86  \\n\\n\\n\\n\\n\\n\\n\\nLinkedIn\\n\\n\\n\\n\\n\\n\\n\\n\\nInfo...   \n",
       "87                Ford Motor Company Lead Automati...   \n",
       "88  \\n\\n\\n\\n\\nUdemy\\n\\n\\n\\n\\n\\n \\n\\n\\n\\n\\n\\n\\n    ...   \n",
       "89                Here’s what’s happened since you...   \n",
       "\n",
       "                   replied_to       file_type recived_day recived_hour   \n",
       "0               NO REPLY SENT  NO ATTACHMENTS          28           13  \\\n",
       "1               NO REPLY SENT  NO ATTACHMENTS          28           13   \n",
       "2               NO REPLY SENT  NO ATTACHMENTS          28           12   \n",
       "3               NO REPLY SENT  NO ATTACHMENTS          28           11   \n",
       "4               NO REPLY SENT  NO ATTACHMENTS          28           10   \n",
       "..                        ...             ...         ...          ...   \n",
       "85              NO REPLY SENT  NO ATTACHMENTS          23           19   \n",
       "86  donotreply@e.linkedin.com  NO ATTACHMENTS          23           18   \n",
       "87              NO REPLY SENT  NO ATTACHMENTS          23           16   \n",
       "88              NO REPLY SENT  NO ATTACHMENTS          23           13   \n",
       "89              NO REPLY SENT  NO ATTACHMENTS          23           13   \n",
       "\n",
       "                            from_email                         from_name   \n",
       "0         no-reply@accounts.google.com                            Google  \\\n",
       "1         no-reply@accounts.google.com                            Google   \n",
       "2     newsletters-noreply@linkedin.com          Dr. Jagrrit via LinkedIn   \n",
       "3     newsletters-noreply@linkedin.com             BBC News via LinkedIn   \n",
       "4     newsletters-noreply@linkedin.com      Michael Spencer via LinkedIn   \n",
       "..                                 ...                               ...   \n",
       "85    newsletters-noreply@linkedin.com        Andriy Burkov via LinkedIn   \n",
       "86             linkedin@e.linkedin.com                    LinkedIn Legal   \n",
       "87      jobalerts-noreply@linkedin.com               LinkedIn Job Alerts   \n",
       "88            no-reply@e.udemymail.com  Udemy Instructor: Jayanta Sarkar   \n",
       "89  notifications-noreply@linkedin.com                          LinkedIn   \n",
       "\n",
       "                            email_from  \n",
       "0         no-reply@accounts.google.com  \n",
       "1         no-reply@accounts.google.com  \n",
       "2     newsletters-noreply@linkedin.com  \n",
       "3     newsletters-noreply@linkedin.com  \n",
       "4     newsletters-noreply@linkedin.com  \n",
       "..                                 ...  \n",
       "85    newsletters-noreply@linkedin.com  \n",
       "86             linkedin@e.linkedin.com  \n",
       "87      jobalerts-noreply@linkedin.com  \n",
       "88            no-reply@e.udemymail.com  \n",
       "89  notifications-noreply@linkedin.com  \n",
       "\n",
       "[90 rows x 23 columns]"
      ]
     },
     "execution_count": 28,
     "metadata": {},
     "output_type": "execute_result"
    }
   ],
   "source": [
    "df"
   ]
  },
  {
   "cell_type": "code",
   "execution_count": 29,
   "id": "dc828e77",
   "metadata": {},
   "outputs": [],
   "source": [
    "df_g=df.groupby(\"recived_hour\",as_index=False).count()[[\"recived_hour\",\"received_at\"]]"
   ]
  },
  {
   "cell_type": "code",
   "execution_count": 30,
   "id": "cfaa6377",
   "metadata": {
    "scrolled": false
   },
   "outputs": [
    {
     "data": {
      "text/plain": [
       "([<matplotlib.axis.XTick at 0x1a9d706a3b0>,\n",
       "  <matplotlib.axis.XTick at 0x1a9d7068070>,\n",
       "  <matplotlib.axis.XTick at 0x1a9d706a8f0>,\n",
       "  <matplotlib.axis.XTick at 0x1a9d6d96110>,\n",
       "  <matplotlib.axis.XTick at 0x1a9d69eb040>,\n",
       "  <matplotlib.axis.XTick at 0x1a9d69e8190>,\n",
       "  <matplotlib.axis.XTick at 0x1a9d69eb880>,\n",
       "  <matplotlib.axis.XTick at 0x1a9d69e84c0>,\n",
       "  <matplotlib.axis.XTick at 0x1a9d6f9dd20>,\n",
       "  <matplotlib.axis.XTick at 0x1a9d6f9e560>,\n",
       "  <matplotlib.axis.XTick at 0x1a9d69e9e40>,\n",
       "  <matplotlib.axis.XTick at 0x1a9d6f9f070>,\n",
       "  <matplotlib.axis.XTick at 0x1a9d6f9f220>,\n",
       "  <matplotlib.axis.XTick at 0x1a9d7010760>,\n",
       "  <matplotlib.axis.XTick at 0x1a9d7011360>,\n",
       "  <matplotlib.axis.XTick at 0x1a9d69ea9e0>,\n",
       "  <matplotlib.axis.XTick at 0x1a9d70119c0>,\n",
       "  <matplotlib.axis.XTick at 0x1a9d7012560>,\n",
       "  <matplotlib.axis.XTick at 0x1a9d7013130>,\n",
       "  <matplotlib.axis.XTick at 0x1a9d6f9ec20>,\n",
       "  <matplotlib.axis.XTick at 0x1a9d7013850>,\n",
       "  <matplotlib.axis.XTick at 0x1a9d7038790>,\n",
       "  <matplotlib.axis.XTick at 0x1a9d7038af0>,\n",
       "  <matplotlib.axis.XTick at 0x1a9d7039f90>],\n",
       " [Text(0, 0, '0'),\n",
       "  Text(1, 0, '1'),\n",
       "  Text(2, 0, '2'),\n",
       "  Text(3, 0, '3'),\n",
       "  Text(4, 0, '4'),\n",
       "  Text(5, 0, '5'),\n",
       "  Text(6, 0, '6'),\n",
       "  Text(7, 0, '7'),\n",
       "  Text(8, 0, '8'),\n",
       "  Text(9, 0, '9'),\n",
       "  Text(10, 0, '10'),\n",
       "  Text(11, 0, '11'),\n",
       "  Text(12, 0, '12'),\n",
       "  Text(13, 0, '13'),\n",
       "  Text(14, 0, '14'),\n",
       "  Text(15, 0, '15'),\n",
       "  Text(16, 0, '16'),\n",
       "  Text(17, 0, '17'),\n",
       "  Text(18, 0, '18'),\n",
       "  Text(19, 0, '19'),\n",
       "  Text(20, 0, '20'),\n",
       "  Text(21, 0, '21'),\n",
       "  Text(22, 0, '22'),\n",
       "  Text(23, 0, '23')])"
      ]
     },
     "execution_count": 30,
     "metadata": {},
     "output_type": "execute_result"
    },
    {
     "data": {
      "image/png": "[encoded data removed]",
      "text/plain": [
       "<Figure size 640x480 with 1 Axes>"
      ]
     },
     "metadata": {},
     "output_type": "display_data"
    }
   ],
   "source": [
    "plt.bar(df_g.recived_hour,df_g.received_at)\n",
    "plt.xticks(range(0,24),range(0,24))"
   ]
  },
  {
   "cell_type": "code",
   "execution_count": null,
   "id": "09236cd4",
   "metadata": {},
   "outputs": [],
   "source": []
  },
  {
   "cell_type": "code",
   "execution_count": 31,
   "id": "a5963b3d",
   "metadata": {},
   "outputs": [
    {
     "data": {
      "text/plain": [
       "([<matplotlib.axis.YTick at 0x1a9d6f9c670>,\n",
       "  <matplotlib.axis.YTick at 0x1a9d6f9c7c0>,\n",
       "  <matplotlib.axis.YTick at 0x1a9d6892620>,\n",
       "  <matplotlib.axis.YTick at 0x1a9d6891960>,\n",
       "  <matplotlib.axis.YTick at 0x1a9d6893070>,\n",
       "  <matplotlib.axis.YTick at 0x1a9d6893b20>,\n",
       "  <matplotlib.axis.YTick at 0x1a9d6f9f460>,\n",
       "  <matplotlib.axis.YTick at 0x1a9d685d630>,\n",
       "  <matplotlib.axis.YTick at 0x1a9d685e020>,\n",
       "  <matplotlib.axis.YTick at 0x1a9d68b33a0>,\n",
       "  <matplotlib.axis.YTick at 0x1a9d685d8a0>,\n",
       "  <matplotlib.axis.YTick at 0x1a9d68b3b20>,\n",
       "  <matplotlib.axis.YTick at 0x1a9d67e0610>,\n",
       "  <matplotlib.axis.YTick at 0x1a9d67e10c0>,\n",
       "  <matplotlib.axis.YTick at 0x1a9d67e1b70>,\n",
       "  <matplotlib.axis.YTick at 0x1a9d68b29b0>,\n",
       "  <matplotlib.axis.YTick at 0x1a9d67e2470>,\n",
       "  <matplotlib.axis.YTick at 0x1a9d67e2f20>,\n",
       "  <matplotlib.axis.YTick at 0x1a9d67e39d0>,\n",
       "  <matplotlib.axis.YTick at 0x1a9d6f344c0>,\n",
       "  <matplotlib.axis.YTick at 0x1a9d67e20e0>,\n",
       "  <matplotlib.axis.YTick at 0x1a9d6f34dc0>,\n",
       "  <matplotlib.axis.YTick at 0x1a9d6f35870>,\n",
       "  <matplotlib.axis.YTick at 0x1a9d6f36320>],\n",
       " [Text(0, 0, '0'),\n",
       "  Text(0, 1, '1'),\n",
       "  Text(0, 2, '2'),\n",
       "  Text(0, 3, '3'),\n",
       "  Text(0, 4, '4'),\n",
       "  Text(0, 5, '5'),\n",
       "  Text(0, 6, '6'),\n",
       "  Text(0, 7, '7'),\n",
       "  Text(0, 8, '8'),\n",
       "  Text(0, 9, '9'),\n",
       "  Text(0, 10, '10'),\n",
       "  Text(0, 11, '11'),\n",
       "  Text(0, 12, '12'),\n",
       "  Text(0, 13, '13'),\n",
       "  Text(0, 14, '14'),\n",
       "  Text(0, 15, '15'),\n",
       "  Text(0, 16, '16'),\n",
       "  Text(0, 17, '17'),\n",
       "  Text(0, 18, '18'),\n",
       "  Text(0, 19, '19'),\n",
       "  Text(0, 20, '20'),\n",
       "  Text(0, 21, '21'),\n",
       "  Text(0, 22, '22'),\n",
       "  Text(0, 23, '23')])"
      ]
     },
     "execution_count": 31,
     "metadata": {},
     "output_type": "execute_result"
    },
    {
     "data": {
      "text/plain": [
       "<Figure size 400x400 with 0 Axes>"
      ]
     },
     "metadata": {},
     "output_type": "display_data"
    },
    {
     "data": {
      "image/png": "[encoded data removed]",
      "text/plain": [
       "<Figure size 600x600 with 3 Axes>"
      ]
     },
     "metadata": {},
     "output_type": "display_data"
    }
   ],
   "source": [
    "plt.figure(figsize=(4,4))\n",
    "sns.jointplot(data=df,x=\"recived_day\",y=\"recived_hour\",kind=\"scatter\")\n",
    "plt.yticks(range(0,24),range(0,24))"
   ]
  },
  {
   "cell_type": "code",
   "execution_count": 32,
   "id": "65639941",
   "metadata": {},
   "outputs": [
    {
     "data": {
      "text/plain": [
       "[{'email': 'no-reply@accounts.google.com', 'name': 'Google'}]"
      ]
     },
     "execution_count": 32,
     "metadata": {},
     "output_type": "execute_result"
    }
   ],
   "source": [
    "df[\"from\"][0]"
   ]
  },
  {
   "cell_type": "code",
   "execution_count": 33,
   "id": "3867b898",
   "metadata": {
    "scrolled": false
   },
   "outputs": [
    {
     "name": "stdout",
     "output_type": "stream",
     "text": [
      "Telangana Growth Analysis\n",
      "Objective:\n",
      "• Explore Stamp Registration, Transportation and Ts-Ipass Datasets.\n",
      "Understand their attributes, categories and time period.\n",
      "• Analyze trends and patterns within each department.\n",
      "• Identify growth opportunities and areas needing attention.\n",
      "• Find correlation among these departments and report the overall growth of the\n",
      "state through insights and relevant visuals such as shape maps.\n",
      "Primary Questions:\n",
      "Stamp Registration\n",
      "1. How does the revenue generated from document registration vary\n",
      "across districts in Telangana? List down the top 5 districts that showed\n",
      "the highest document registration revenue growth between FY 2019\n",
      "and 2022.\n",
      "2. How does the revenue generated from document registration compare\n",
      "to the revenue generated from e-stamp challans across districts? List\n",
      "down the top 5 districts where e-stamps revenue contributes\n",
      "significantly more to the revenue than the documents in FY 2022?\n",
      "3. Is there any alteration of e-Stamp challan count and document\n",
      "registration count pattern since the implementation of e-Stamp\n",
      "challan? If so, what suggestions would you propose to the\n",
      "government?\n",
      "4. Categorize districts into three segments based on their stamp\n",
      "registration revenue generation during the fiscal year 2021 to 2022.\n",
      "codebasics.ioTransportation\n",
      "5. Investigate whether there is any correlation between vehicle sales and\n",
      "specific months or seasons in different districts. Are there any months\n",
      "or seasons that consistently show higher or lower sales rate, and if yes,\n",
      "what could be the driving factors? (Consider Fuel-Type category only)\n",
      "6. How does the distribution of vehicles vary by vehicle class\n",
      "(MotorCycle, MotorCar, AutoRickshaw, Agriculture) across different\n",
      "districts? Are there any districts with a predominant preference for a\n",
      "specific vehicle class? Consider FY 2022 for analysis.\n",
      "7. List down the top 3 and bottom 3 districts that have shown the highest\n",
      "and lowest vehicle sales growth during FY 2022 compared to FY\n",
      "2021? (Consider and compare categories: Petrol, Diesel and Electric)\n",
      "Ts-Ipass (Telangana State Industrial Project Approval and Self\n",
      "Certification System)\n",
      "8. List down the top 5 sectors that have witnessed the most significant\n",
      "investments in FY 2022.\n",
      "9. List down the top 3 districts that have attracted the most significant\n",
      "sector investments during FY 2019 to 2022? What factors could have\n",
      "led to the substantial investments in these particular districts?\n",
      "10. Is there any relationship between district investments, vehicles\n",
      "sales and stamps revenue within the same district between FY 2021\n",
      "and 2022?\n",
      "11. Are there any particular sectors that have shown substantial\n",
      "investment in multiple districts between FY 2021 and 2022?\n",
      "12. Can we identify any seasonal patterns or cyclicality in the\n",
      "investment trends for specific sectors? Do certain sectors\n",
      "experience higher investments during particular months?\n",
      "codebasics.ioSecondary Research: (Need additional research and get additional\n",
      "data)\n",
      "Note: These are just examples, you can add more questions\n",
      "1. What are the top 5 districts to buy commercial properties in\n",
      "Telangana? Justify your answer.\n",
      "2. What significant policies or initiatives were put into effect to\n",
      "enhance economic growth, investments, and employment in\n",
      "Telangana by the current government? Can we quantify the\n",
      "impact of these policies using available data?\n",
      "3. Provide top 5 Insights & 5 recommendations to Telangana\n",
      "government for sustained growth in the next 5 years based on\n",
      "your analysis.\n",
      "codebasics.io\n"
     ]
    }
   ],
   "source": [
    "import pdfplumber\n",
    "\n",
    "# Open the PDF file\n",
    "with pdfplumber.open(r'C:\\Users\\ssrin\\OneDrive\\Desktop\\C7 Input Files\\res.pdf') as pdf:\n",
    "    # Initialize an empty string to store extracted text\n",
    "    text = ''\n",
    "\n",
    "    # Iterate through each page and extract text\n",
    "    for page in pdf.pages:\n",
    "        text += page.extract_text()\n",
    "\n",
    "# Print or use the extracted text\n",
    "print(text)"
   ]
  },
  {
   "cell_type": "code",
   "execution_count": 34,
   "id": "09addc7d",
   "metadata": {
    "scrolled": true
   },
   "outputs": [
    {
     "name": "stdout",
     "output_type": "stream",
     "text": [
      " How does the revenue generated from document registration compare\n",
      "to the revenue generated from e-stamp challans across districts? List\n",
      "down the top 5 districts where e-stamps revenue contributes\n",
      "significantly more to the revenue than the documents in FY 2022?\n",
      "3.  List down the top 3 and bottom 3 districts that have shown the highest\n",
      "and lowest vehicle sales growth during FY 2022 compared to FY\n",
      "2021? (Consider and compare categories: Petrol, Diesel and Electric)\n",
      "Ts-Ipass (Telangana State Industrial Project Approval and Self\n",
      "Certification System)\n",
      "8\n"
     ]
    }
   ],
   "source": [
    "sentences = text.split('.')\n",
    "\n",
    "# Calculate word frequency for each word in the text\n",
    "word_frequency = {}\n",
    "for sentence in sentences:\n",
    "    words = sentence.split()\n",
    "    for word in words:\n",
    "        word = word.lower()\n",
    "        if word.isalnum():\n",
    "            if word in word_frequency:\n",
    "                word_frequency[word] += 1\n",
    "            else:\n",
    "                word_frequency[word] = 1\n",
    "\n",
    "# Calculate sentence scores based on word frequency\n",
    "sentence_scores = {}\n",
    "for sentence in sentences:\n",
    "    for word in sentence.split():\n",
    "        word = word.lower()\n",
    "        if word in word_frequency:\n",
    "            if sentence in sentence_scores:\n",
    "                sentence_scores[sentence] += word_frequency[word]\n",
    "            else:\n",
    "                sentence_scores[sentence] = word_frequency[word]\n",
    "\n",
    "# Sort sentences by their scores in descending order\n",
    "sorted_sentences = sorted(sentence_scores.items(), key=lambda x: x[1], reverse=True)\n",
    "\n",
    "# Extract the top N sentences for the summary\n",
    "top_n = 2  # Adjust this to control the length of the summary\n",
    "summary_sentences = [sentence for sentence, score in sorted_sentences[:top_n]]\n",
    "\n",
    "# Create the summary\n",
    "summary = '. '.join(summary_sentences)\n",
    "\n",
    "# Print the summary\n",
    "print(summary)"
   ]
  },
  {
   "cell_type": "code",
   "execution_count": 35,
   "id": "6b94fbab",
   "metadata": {},
   "outputs": [],
   "source": [
    "text = \"\"\"\n",
    "    Text summarization is the process of condensing a piece of text into a shorter, coherent version\n",
    "    while retaining the most important information. It is a valuable tool for quickly understanding\n",
    "    the key points of a document.\n",
    "    There are two primary approaches to text summarization: extractive and abstractive.\n",
    "    Extractive summarization selects and rearranges sentences from the original text, while abstractive\n",
    "    summarization generates new sentences that convey the essential meaning.\n",
    "    This example demonstrates extractive summarization using the Gensim library.\n",
    "\"\"\""
   ]
  },
  {
   "cell_type": "code",
   "execution_count": 36,
   "id": "858be80a",
   "metadata": {
    "scrolled": true
   },
   "outputs": [
    {
     "data": {
      "text/plain": [
       "'\\n    Text summarization is the process of condensing a piece of text into a shorter, coherent version\\n    while retaining the most important information. It is a valuable tool for quickly understanding\\n    the key points of a document.\\n    There are two primary approaches to text summarization: extractive and abstractive.\\n    Extractive summarization selects and rearranges sentences from the original text, while abstractive\\n    summarization generates new sentences that convey the essential meaning.\\n    This example demonstrates extractive summarization using the Gensim library.\\n'"
      ]
     },
     "execution_count": 36,
     "metadata": {},
     "output_type": "execute_result"
    }
   ],
   "source": [
    "text"
   ]
  },
  {
   "cell_type": "code",
   "execution_count": 37,
   "id": "5814d2fb",
   "metadata": {},
   "outputs": [
    {
     "name": "stdout",
     "output_type": "stream",
     "text": [
      "Keywords: ['summarization', 'text', 'extractive', 'while', 'sentences']\n"
     ]
    }
   ],
   "source": [
    "# Tokenize the text into words\n",
    "words = text.split()\n",
    "\n",
    "# Create a dictionary to store word frequencies\n",
    "word_frequency = {}\n",
    "\n",
    "# Define a list of common words to ignore (customize as needed)\n",
    "common_words_to_ignore = [\"the\", \"of\", \"is\", \"a\", \"it\", \"for\", \"and\", \"to\", \"in\", \"this\"]\n",
    "\n",
    "# Calculate word frequencies\n",
    "for word in words:\n",
    "    word = word.lower()\n",
    "    if word not in common_words_to_ignore:\n",
    "        if word in word_frequency:\n",
    "            word_frequency[word] += 1\n",
    "        else:\n",
    "            word_frequency[word] = 1\n",
    "\n",
    "# Extract keywords based on word frequency\n",
    "top_n_keywords = 5  # You can adjust this to get more or fewer keywords\n",
    "keywords = [word for word, freq in sorted(word_frequency.items(), key=lambda x: x[1], reverse=True)[:top_n_keywords]]\n",
    "\n",
    "# Print the extracted keywords\n",
    "print(\"Keywords:\", keywords)"
   ]
  },
  {
   "cell_type": "code",
   "execution_count": 38,
   "id": "6ff50ecf",
   "metadata": {},
   "outputs": [
    {
     "name": "stdout",
     "output_type": "stream",
     "text": [
      "Text from the file:\n",
      "This file contains all the meta information regarding the columns described in the CSV files. We have provided 5 CSV files:\n",
      "1. dim_districts\n",
      "2. dim_date\n",
      "3. fact_stamps\n",
      "4. fact_transport\n",
      "5. fact_TS_iPASS\n",
      "\n",
      "---------------------------------------------------------------------------------------------\n",
      "\n",
      "Column description for dim_districts:\n",
      "The table contains information about districts.\n",
      "\n",
      "- dist_code: This column represents the district code or identifier for each district.\n",
      "\n",
      "- district: This column represents the name of the district.\n",
      "\n",
      "---------------------------------------------------------------------------------------------\n",
      "\n",
      "Column description for dim_date:\n",
      "This table contains the dates at the monthly level. Please be aware that the fiscal year of Telangana spans from April to March.\n",
      "\n",
      "- month: This column contains the starting date of each month.\n",
      "\n",
      "- Mmm: This column contains the name of the month.\n",
      "\n",
      "- quarter: This column contains the associated quarter for each particular month.  \n",
      "\n",
      "- fiscal_year: This column contains the corresponding fiscal year of each month.\n",
      "\n",
      "---------------------------------------------------------------------------------------------\n",
      "\n",
      "Column description for fact_stamps:\n",
      "The table provides data on the revenue generated from document registrations and estamp challan payments aggregated at the district and monthly level.\n",
      "\n",
      "\n",
      "- dist_code: This column represents the district code.\n",
      "\n",
      "- month: This column represents the starting date of each month.\n",
      "\n",
      "- documents_registered_cnt: This column represents the total count of documents registered.\n",
      "\n",
      "- documents_registered_rev: This column represents the total revenue generated from the registered documents.\n",
      "\n",
      "- estamps_challans_cnt: This column represents the count of e-stamps challans.\n",
      "\n",
      "- estamps_challans_rev: This column represents the revenue generated from e-stamps challans.\n",
      "\n",
      "\n",
      "---------------------------------------------------------------------------------------------\n",
      "\n",
      "\n",
      "Column description for fact_transport:\n",
      "The table provides information about the individual vehicle sales data from the RTA(Regional Transport Authority) of the state of Telangana categorized by fuel type,\n",
      "vehicle class, seating capacity, and other general categories aggregated at the district and monthly level.\n",
      "\n",
      "- dist_code: This column represents the district code.\n",
      "\n",
      "- month: This column represents the starting date of each month.\n",
      "\n",
      "- Vehicle sales categorized by different fuel types:\n",
      "\tfuel_type_petrol: Number of vehicles sold with petrol fuel type.\n",
      "\tfuel_type_diesel: Number of vehicles sold with diesel fuel type.\n",
      "\tfuel_type_electric: Number of vehicles sold with electric fuel type.\n",
      "\tfuel_type_others: Number of vehicles sold with other fuel types.\n",
      "\n",
      "- Vehicle sales categorized by different vehicle class:\n",
      "\tvehicleClass_Motorcycles: This category includes all two-wheeled vehicles, such as motorcycles, scooters etc.\n",
      "\tvehicleClass_Motorcars: This category includes all four-wheeled vehicles, such as cars, vans etc.\n",
      "\tvehicleClass_Auto rickshaws: This category includes three-wheeled vehicles, such as auto rickshaws.\n",
      "\tvehicleClass_Agriculture: This category includes all vehicles used for agricultural purposes, such as tractors and harvesters.\n",
      "\tvehicleClass_Others: This category includes all vehicles belonging to other classes.\n",
      "\n",
      "- Vehicle sales categorized by seating capacity\n",
      "\tseatCapacity_1_to_3: Number of vehicles sold with a seating capacity ranging from 1 to 3.\n",
      "\tseatCapacity_4_to_6: Number of vehicles sold with a seating capacity ranging from 4 to 6.\n",
      "\tseatCapacity_above_6: Number of vehicles sold with a seating capacity above 6.\n",
      "\n",
      "- Sales of vehicles by other categories:\n",
      "\tBrand_new_vehicles: Number of brand new vehicles sold.\n",
      "\tPre-owned_vehicles: Number of pre-owned vehicles sold.\n",
      "\tcategory_Non-Transport: Number of vehicles in the non-transport category sold. The Non-Transport category typically includes vehicles that are not primarily used for public transportation of passengers or goods. Instead, these vehicles are generally intended for personal use, recreational activities, agriculture, construction, and other non-commercial purposes.\n",
      "\tcategory_Transport: Number of vehicles in the transport category sold. The Transport category comprises vehicles primarily designed and used for the transportation of goods, passengers, or both. These vehicles are generally associated with commercial and public transportation purposes.\n",
      "\n",
      "\n",
      "---------------------------------------------------------------------------------------------\n",
      "\n",
      "\n",
      "Column description for fact_TS_iPASS:\n",
      "The TS-iPASS dataset in Telangana comprises data concerning units or businesses established within the state under the \"Industrial Project Approval and Self-Certification System\" (iPASS). This government initiative aims to foster industrial growth and investment by streamlining project approvals and enabling self-certification for businesses.\n",
      "For further details, visit: https://ipass.telangana.gov.in/\n",
      "\n",
      "\n",
      "- dist_code: This column represents the district code.\n",
      "\n",
      "- month: This column represents the starting date of each month.\n",
      "\n",
      "- sector: This column represents the industry category. Examples of sectors include 'Automobiles', 'Beverages', 'Engineering', 'Food Processing', etc.\n",
      "\n",
      "- investment in cr: The column represents the investment made in the specific sector, measured in crores (a unit of currency), for the corresponding district and month.\n",
      "\n",
      "- number_of_employes: This column represents the number of employees associated with that sector for given district and respective month.\n",
      "\n",
      "\n",
      "-----------------------------------------------------------------------------------------------\n"
     ]
    }
   ],
   "source": [
    "# Specify the path to your text file\n",
    "file_path = 'Metadata.txt'  # Replace with the path to your text file\n",
    "\n",
    "# Open and read the text file\n",
    "try:\n",
    "    with open(file_path, 'r') as file:\n",
    "        file_contents = file.read()\n",
    "\n",
    "    # Print the text from the file\n",
    "    print(\"Text from the file:\")\n",
    "    print(file_contents)\n",
    "except FileNotFoundError:\n",
    "    print(f\"File not found at path: {file_path}\")\n",
    "except Exception as e:\n",
    "    print(f\"An error occurred: {e}\")"
   ]
  },
  {
   "cell_type": "code",
   "execution_count": null,
   "id": "8db5b524",
   "metadata": {},
   "outputs": [],
   "source": []
  }
 ],
 "metadata": {
  "kernelspec": {
   "display_name": "Python 3 (ipykernel)",
   "language": "python",
   "name": "python3"
  },
  "language_info": {
   "codemirror_mode": {
    "name": "ipython",
    "version": 3
   },
   "file_extension": ".py",
   "mimetype": "text/x-python",
   "name": "python",
   "nbconvert_exporter": "python",
   "pygments_lexer": "ipython3",
   "version": "3.10.0"
  }
 },
 "nbformat": 4,
 "nbformat_minor": 5
}
